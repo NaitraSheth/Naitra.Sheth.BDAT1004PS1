{
 "cells": [
  {
   "cell_type": "markdown",
   "id": "0217df2a",
   "metadata": {},
   "source": [
    " # Question 1 : Find the Data Type"
   ]
  },
  {
   "cell_type": "code",
   "execution_count": 32,
   "id": "8e08ec36",
   "metadata": {},
   "outputs": [
    {
     "name": "stdout",
     "output_type": "stream",
     "text": [
      "<class 'int'>\n",
      "<class 'float'>\n",
      "<class 'bool'>\n",
      "<class 'str'>\n",
      "<class 'int'>\n",
      "<class 'str'>\n",
      "<class 'str'>\n",
      "<class 'float'>\n",
      "<class 'int'>\n",
      "<class 'set'>\n",
      "<class 'bool'>\n",
      "<class 'float'>\n"
     ]
    }
   ],
   "source": [
    "# 5\n",
    "print(type(5))\n",
    "\n",
    "# 5.0\n",
    "print(type(5.0))\n",
    "\n",
    "# 5 > 1\n",
    "print(type(5 > 1))\n",
    "\n",
    "# '5'\n",
    "print(type('5'))\n",
    "\n",
    "# 5 * 2\n",
    "print(type(5 * 2))\n",
    "\n",
    "# '5' * 2\n",
    "print(type('5' * 2))\n",
    "\n",
    "# '5' + '2'\n",
    "print(type('5' + '2'))\n",
    "\n",
    "# 5 / 2\n",
    "print(type(5 / 2))\n",
    "\n",
    "# 5 % 2\n",
    "print(type(5 % 2))\n",
    "\n",
    "# {5, 2, 1}\n",
    "print(type({5, 2, 1}))\n",
    "\n",
    "# 5 == 3\n",
    "print(type(5 == 3))\n",
    "\n",
    "# Pi (the number)\n",
    "print(type(3.14))"
   ]
  },
  {
   "cell_type": "markdown",
   "id": "fe91bf06",
   "metadata": {},
   "source": [
    "# Question 2 : Write (and evaluate) python expressions that answer these questions:"
   ]
  },
  {
   "cell_type": "code",
   "execution_count": 47,
   "id": "effc6e43",
   "metadata": {},
   "outputs": [
    {
     "name": "stdout",
     "output_type": "stream",
     "text": [
      "34\n",
      "Pass\n",
      "The longest word is :  Supercalifragilisticexpialidocious and it contains :  34  characters\n",
      "First in the dictionary :  Bartok\n",
      "Last in the dictionary :  Buxtehude\n"
     ]
    }
   ],
   "source": [
    "# a. How many letters are there in 'Supercalifragilisticexpialidocious'?\n",
    "\n",
    "print(len('Supercalifragilisticexpialidocious'))\n",
    "\n",
    "# b. Does 'Supercalifragilisticexpialidocious' contain 'ice' as a substring?\n",
    "\n",
    "def is_substring(string, sub_str):\n",
    "    length = len(sub_str)\n",
    "    for i in range(len(string)):\n",
    "        if string[i: i+length] == sub_str:\n",
    "            return True\n",
    "    return False\n",
    "    \n",
    "print (\"Pass\" if is_substring(\"Supercalifragilisticexpialidocious\", \"ice\") else \"Fail\")\n",
    "\n",
    "# c. Which of the following words is the longest: Supercalifragilisticexpialidocious, Honorificabilitudinitatibus, or Bababadalgharaghtakamminarronnkonn? \n",
    "\n",
    "def longest_word(word1, word2, word3):\n",
    "    if len(word1) >= len(word2) and len(word1) >= len(word3):\n",
    "        word = word1\n",
    "    elif len(word2) >= len(word1) and len(word2) >= len(word3):\n",
    "        word = word2\n",
    "    else:\n",
    "        word = word3\n",
    "    return word\n",
    "\n",
    "longest = longest_word('Supercalifragilisticexpialidocious', 'Honorificabilitudinitatibus', 'Bababadalgharaghtakamminarronnkonn')\n",
    "\n",
    "print(\"The longest word is : \" , longest , \"and it contains : \" , len(longest) , \" characters\")\n",
    "\n",
    "# d. Which composer comes first in the dictionary: 'Berlioz', 'Borodin', 'Brian','Bartok', 'Bellini', 'Buxtehude', 'Bernstein'. Which one comes last?\n",
    "\n",
    "Data = ['Berlioz', 'Borodin', 'Brian','Bartok', 'Bellini', 'Buxtehude', 'Bernstein']\n",
    "length = len(Data)\n",
    "Data.sort()\n",
    "print(\"First in the dictionary : \" , Data[0])\n",
    "print(\"Last in the dictionary : \" , Data[length-1])"
   ]
  },
  {
   "cell_type": "markdown",
   "id": "11ddecdf",
   "metadata": {},
   "source": [
    "# Question 3 : Implement function triangleArea(a,b,c) that takes as input the lengths of the 3 sides of a triangle and returns the area of the triangle."
   ]
  },
  {
   "cell_type": "code",
   "execution_count": 6,
   "id": "34989061",
   "metadata": {},
   "outputs": [
    {
     "name": "stdout",
     "output_type": "stream",
     "text": [
      "1.7320508075688772\n"
     ]
    }
   ],
   "source": [
    "# Implement function triangleArea(a,b,c) that finds the area of triangle.\n",
    "\n",
    "import math\n",
    "\n",
    "def triangleArea(a,b,c):\n",
    "    s = (a+b+c)/2\n",
    "    return math.sqrt(s*(s-a)*(s-b)*(s-c))\n",
    "\n",
    "print(triangleArea(2,2,2))"
   ]
  },
  {
   "cell_type": "markdown",
   "id": "b182d119",
   "metadata": {},
   "source": [
    "# Question 4 : Write a program in python to separate odd and even integers in separate arrays."
   ]
  },
  {
   "cell_type": "code",
   "execution_count": 11,
   "id": "328fd197",
   "metadata": {},
   "outputs": [
    {
     "name": "stdout",
     "output_type": "stream",
     "text": [
      "Input the number of elements to be stored in the array : 5\n",
      "element - 0 : 25\n",
      "element - 1 : 47\n",
      "element - 2 : 42\n",
      "element - 3 : 56\n",
      "element - 4 : 32\n",
      "The Even elements are : \n",
      "42 56 32 \n",
      "The Odd elements are : \n",
      "25 47 "
     ]
    }
   ],
   "source": [
    "n = int(input(\"Input the number of elements to be stored in the array : \"))\n",
    "# GOT AN INPUT FFROM THE USER OF RANGE.\n",
    "a = []\n",
    "even = []\n",
    "odd = []\n",
    "for i in range(0, n):\n",
    "    a.append(int(input(\"element - %d : \" % i)))\n",
    "    # INSERTED THE DATA IN ARRAY.\n",
    "    if a[i] % 2 == 0:\n",
    "        even.append(a[i])\n",
    "    else:\n",
    "        odd.append(a[i])\n",
    "    # CONDITION TO FIND THE ODD AND EVEN NUMBER.\n",
    "print(\"The Even elements are : \")\n",
    "for i in range(0, len(even)):\n",
    "    print(even[i], end=\" \")\n",
    "# PRINTING EVEN ELEMENTS\n",
    "print(\"\\nThe Odd elements are : \")\n",
    "for i in range(0, len(odd)):\n",
    "    print(odd[i], end=\" \")\n",
    "# PRINTING ODD ELEMENTS"
   ]
  },
  {
   "cell_type": "markdown",
   "id": "5b93b497",
   "metadata": {},
   "source": [
    "# Question 5 : Write a function inside(x,y,x1,y1,x2,y2) that returns True or False depending on whether the point (x,y) lies in the rectangle with lower left corner (x1,y1) and upper right corner (x2,y2)."
   ]
  },
  {
   "cell_type": "code",
   "execution_count": 31,
   "id": "264798db",
   "metadata": {},
   "outputs": [
    {
     "name": "stdout",
     "output_type": "stream",
     "text": [
      "True\n",
      "False\n",
      "given point is not inside both of the rectangle\n"
     ]
    }
   ],
   "source": [
    "# a.\n",
    "\n",
    "def inside(x,y,x1,y1,x2,y2):\n",
    "    if x1 <= x <= x2 and y1 <= y <= y2:\n",
    "        # Comparing the point to the othet two point. Checking If the point is between two point or not\n",
    "        return True\n",
    "    else:\n",
    "        return False\n",
    "\n",
    "print(inside(1,1,0,0,1,1))\n",
    "print(inside(-2,-3,0,0,1,1))\n",
    "# b:\n",
    "if ((inside(1,1,0.3,0.5,1.1,0.7,)) and (inside(1,1,0.5,0.2,1.1,2)) == True ):\n",
    "    print(\"given point is inside both the rectangles\")\n",
    "else:\n",
    "    print(\"given point is not inside both of the rectangle\")\n",
    "# b."
   ]
  },
  {
   "cell_type": "markdown",
   "id": "83d7b261",
   "metadata": {},
   "source": [
    "# Question 6 : Write a function pig() that takes a word (i.e., a string) as input and returns its pigLatin form."
   ]
  },
  {
   "cell_type": "code",
   "execution_count": 2,
   "id": "82e65e95",
   "metadata": {},
   "outputs": [
    {
     "name": "stdout",
     "output_type": "stream",
     "text": [
      "appyhay\n",
      "enterway\n"
     ]
    }
   ],
   "source": [
    "def pig(word):\n",
    "    lower_word = str.lower(word)\n",
    "    vovel = 'aeiou'\n",
    "    if lower_word[0] in vovel:\n",
    "        #Checking the first character is vovel\n",
    "        return lower_word + 'way'\n",
    "    else:\n",
    "        return lower_word[1:] + lower_word[0] + 'ay'\n",
    "\n",
    "print(pig('happy'))\n",
    "print(pig('Enter'))"
   ]
  },
  {
   "cell_type": "markdown",
   "id": "6342a879",
   "metadata": {},
   "source": [
    "# Question 7 :  Write a function bldcount() that reads the file with name name and reports (i.e., prints) how many patients there are in each bloodtype."
   ]
  },
  {
   "cell_type": "code",
   "execution_count": 67,
   "id": "f7bae17f",
   "metadata": {},
   "outputs": [
    {
     "name": "stdout",
     "output_type": "stream",
     "text": [
      "There are  15 patients of blood type A.\n",
      "There are  1 patients of blood type B.\n",
      "There are  13 patients of blood type AB.\n",
      "There are  15 patients of blood type O.\n",
      "There are  0 patients of blood type OO.\n"
     ]
    }
   ],
   "source": [
    "def bldcount(name):\n",
    "    f = open(\"bloodtype1.txt\", \"r\")\n",
    "    data = f.read()\n",
    "    f.close()\n",
    "    bloodtype = {'AB': 0 ,'A' : 0 , 'B' : 0 , 'O' : 0 , 'OO' : 0}\n",
    "    #Using dictonary to save the total Blood group in each group\n",
    "    data_content = data.split(\" \")   \n",
    "    for k in range(len(data_content)):\n",
    "        if(data_content[k] in bloodtype):\n",
    "            bloodtype[data_content[k]] += 1\n",
    "            #if condition match, increasing the count of key variable\n",
    "        else:\n",
    "            continue    \n",
    "    print(\"There are \", bloodtype['A'] ,\"patients of blood type A.\")\n",
    "    print(\"There are \", bloodtype['B'] ,\"patients of blood type B.\")\n",
    "    print(\"There are \", bloodtype['AB'] ,\"patients of blood type AB.\")\n",
    "    print(\"There are \", bloodtype['O'] ,\"patients of blood type O.\")\n",
    "    print(\"There are \", bloodtype['OO'] ,\"patients of blood type OO.\")\n",
    "\n",
    "bldcount('bloodtype1.txt')"
   ]
  },
  {
   "cell_type": "markdown",
   "id": "d106aaeb",
   "metadata": {},
   "source": [
    "# Question 8 : Write a function curconv() that takes as input:\n",
    "1. a currency represented using a string (e.g., 'JPY' for the Japanese Yen or 'EUR' for the Euro)\n",
    "2. an amount\n",
    "and then converts and returns the amount in US dollars."
   ]
  },
  {
   "cell_type": "code",
   "execution_count": 35,
   "id": "8f9c9918",
   "metadata": {},
   "outputs": [
    {
     "name": "stdout",
     "output_type": "stream",
     "text": [
      "122.96544\n",
      "1.241401\n"
     ]
    }
   ],
   "source": [
    "def curconv(currency, amount):\n",
    "    f = open('currencies.txt')\n",
    "    for line in f:\n",
    "        #scaning the every line.\n",
    "        if line.startswith(currency):\n",
    "            # finding if line starts with the matching currancy name \n",
    "            rate = float(line.split()[1])\n",
    "            #fetching the float value in file and storing it into rate.\n",
    "            print(amount * rate)\n",
    "            \n",
    "curconv('EUR', 100)\n",
    "curconv('JPY', 100)\n"
   ]
  },
  {
   "cell_type": "markdown",
   "id": "b542b3e6",
   "metadata": {},
   "source": [
    "# Question 9 : Each of the following will cause an exception (an error). Identify what type of exception each will cause."
   ]
  },
  {
   "cell_type": "markdown",
   "id": "54234c69",
   "metadata": {},
   "source": [
    "### A. Trying to add incompatible variables, as in adding 6 + ‘a’.\n",
    "\n",
    "    SyntaxError : Invalid Character in identifier.\n",
    "        \n",
    "### B. Referring to the 12th item of a list that has only 10 items\n",
    "    \n",
    "data= [1,2,3,4,5,6,7,8,9,10]\n",
    "print(data[12])\n",
    "\n",
    "    IndexError : List Index Out Of Range.\n",
    "    \n",
    "### C. Using a value that is out of range for a function’s input, such as calling math.sqrt(-1.0)\n",
    "\n",
    "import math\n",
    "math.sqrt(-1.0)\n",
    "\n",
    "    ValueError : Math Domain Error.\n",
    "    \n",
    "### D. Using an undeclared variable, such as print(x) when x has not been defined\n",
    "\n",
    "print(x)\n",
    "\n",
    "    NameError : name 'x' is not defined.\n",
    "    \n",
    "### E. Trying to open a file that does not exist, such as mistyping the file name or looking in the wrong directory. \n",
    "\n",
    "f = open(\"demo.txt\", \"r\")\n",
    "data = f.read()\n",
    "\n",
    "    FileNotFoundError: [Errno 2] No such file or directory: 'demo.txt'"
   ]
  },
  {
   "cell_type": "markdown",
   "id": "716fc054",
   "metadata": {},
   "source": [
    "# Question 10 : Write a function called frequencies() that takes a string as its only parameter, and returns a list of integers, showing the number of times each character appears in the text. Your function may ignore any characters that are not in letters. "
   ]
  },
  {
   "cell_type": "code",
   "execution_count": 61,
   "id": "c9faac49",
   "metadata": {},
   "outputs": [
    {
     "name": "stdout",
     "output_type": "stream",
     "text": [
      "dict_values([1, 1, 1, 3, 5, 1, 1, 2, 1, 0, 1, 0, 1, 2, 4, 0, 1, 2, 0, 3, 1, 0, 1, 1, 0, 0])\n"
     ]
    }
   ],
   "source": [
    "def frequencies(data):\n",
    "    data=data.lower()\n",
    "    alphabet = ['a', 'b', 'c', 'd', 'e', 'f', 'g', 'h', 'i', 'j', 'k', 'l', 'm', 'n', 'o', 'p', 'q', 'r', 's', 't', 'u', 'v', 'w', 'x', 'y', 'z']\n",
    "    # created a list of all alphabets\n",
    "    x=0\n",
    "    scores = {}\n",
    "    for j in range(0, 26):\n",
    "        scores[alphabet[j]] = x \n",
    "        j+=1\n",
    "        #converted the list into dictonary with alphabets as key value.\n",
    "    for k in range(len(data)):\n",
    "        if(data[k] in alphabet):\n",
    "            scores[data[k]] += 1\n",
    "            #if character matches the key value in dictonary increasing the value\n",
    "        else:\n",
    "            continue\n",
    "    print(scores.values())\n",
    "    #using the values function printing the values of dictonary.\n",
    "frequencies('The quick red fox got bored and went home.')"
   ]
  }
 ],
 "metadata": {
  "kernelspec": {
   "display_name": "Python 3 (ipykernel)",
   "language": "python",
   "name": "python3"
  },
  "language_info": {
   "codemirror_mode": {
    "name": "ipython",
    "version": 3
   },
   "file_extension": ".py",
   "mimetype": "text/x-python",
   "name": "python",
   "nbconvert_exporter": "python",
   "pygments_lexer": "ipython3",
   "version": "3.9.13"
  }
 },
 "nbformat": 4,
 "nbformat_minor": 5
}
